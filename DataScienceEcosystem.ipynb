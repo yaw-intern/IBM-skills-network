{
 "cells": [
  {
   "cell_type": "markdown",
   "id": "bc28daa9-07fb-43bc-9172-3dda76458b9a",
   "metadata": {},
   "source": [
    "# Data Science Tools and Ecosystem "
   ]
  },
  {
   "cell_type": "markdown",
   "id": "87084e76-c3ef-445a-b4dc-fb5980720655",
   "metadata": {},
   "source": [
    "In this Notebook, Data Science tools and Ecosystem are summarized."
   ]
  },
  {
   "cell_type": "markdown",
   "id": "46c57781-6334-46a3-bb37-9321737b67ca",
   "metadata": {},
   "source": [
    "__Objectives:__\n",
    "- List popular languages for Data Science\n",
    "- List commonly used Data Science libraries\n",
    "- Create a table with the names of some data science tools"
   ]
  },
  {
   "cell_type": "markdown",
   "id": "a5a8edfb-b06f-466e-a751-e93bb6a6f8fd",
   "metadata": {},
   "source": [
    "Some of the popular languages that Data Scientists use:\n",
    "1. Python\n",
    "2. R\n",
    "3. SQL\n",
    "4. Scala"
   ]
  },
  {
   "cell_type": "markdown",
   "id": "d344558e-17ff-4c32-8f4f-bf4bab12eb17",
   "metadata": {},
   "source": [
    "Some of the commonly used libraries used by Data Scientists include:\n",
    "1. Pandas\n",
    "2. NumPy\n",
    "3. SciPy\n",
    "4. MatplotLib"
   ]
  },
  {
   "cell_type": "markdown",
   "id": "ab1431a5-cb78-46ee-9fe6-268e841b2ea7",
   "metadata": {},
   "source": [
    "|Data Science Tools|\n",
    "|--------|\n",
    "|KubeFlow|\n",
    "|Kafka|\n",
    "|SparkSQL|"
   ]
  },
  {
   "cell_type": "markdown",
   "id": "1431f64e-66b7-4ae9-9557-26d55a79f185",
   "metadata": {},
   "source": [
    "### Below are a few examples of evaluating arithmetic expressions in Python\n",
    "2+3\n",
    "(5*10)+3\n"
   ]
  },
  {
   "cell_type": "code",
   "execution_count": 1,
   "id": "163a39a7-c6dd-4ca3-be58-e65c19a24999",
   "metadata": {
    "tags": []
   },
   "outputs": [
    {
     "data": {
      "text/plain": [
       "17"
      ]
     },
     "execution_count": 1,
     "metadata": {},
     "output_type": "execute_result"
    }
   ],
   "source": [
    "(3*4)+5"
   ]
  },
  {
   "cell_type": "code",
   "execution_count": 5,
   "id": "258252fa-c306-406d-ad0f-5821c08aaa18",
   "metadata": {
    "tags": []
   },
   "outputs": [
    {
     "data": {
      "text/plain": [
       "3"
      ]
     },
     "execution_count": 5,
     "metadata": {},
     "output_type": "execute_result"
    }
   ],
   "source": [
    "# This will convert 200 minutes to hours by diving by 60\n",
    "import math\n",
    "minutes = 200\n",
    "\n",
    "minutesToHours = math.floor(minutes/60)\n",
    "minutesToHours"
   ]
  },
  {
   "cell_type": "markdown",
   "id": "1967254c-6a9e-4189-96d6-0838892404b4",
   "metadata": {},
   "source": [
    "## Author\n",
    "Nathan Ameyaw Abuaku"
   ]
  },
  {
   "cell_type": "code",
   "execution_count": null,
   "id": "93f4cc2a-4ff9-48a1-92de-581ec8957205",
   "metadata": {},
   "outputs": [],
   "source": []
  }
 ],
 "metadata": {
  "kernelspec": {
   "display_name": "Python",
   "language": "python",
   "name": "conda-env-python-py"
  },
  "language_info": {
   "codemirror_mode": {
    "name": "ipython",
    "version": 3
   },
   "file_extension": ".py",
   "mimetype": "text/x-python",
   "name": "python",
   "nbconvert_exporter": "python",
   "pygments_lexer": "ipython3",
   "version": "3.7.12"
  }
 },
 "nbformat": 4,
 "nbformat_minor": 5
}
